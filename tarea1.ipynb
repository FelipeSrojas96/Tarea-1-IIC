import datetime as dt
#CLASE PROYECTOS Y SUS ESPECIALIZACIONES DE CONCIENTIZACION Y EJECUCION

class Proyectos:

	def __init__(self, nombre, descripcion = None, fechaInicio = None, estado = "Planificacion", jefeProyecto = None, **kwargs):
		self.nombre = nombre
		self.descripcion = descripcion
		self.fechaInicio = fechaInicio
		self.estado = estado
		self.jefeProyecto = jefeProyecto
		self.logs = logs
		self.instituciones = []
		self.etiqueta = None #Variable que me indica que tipo de proyecto es, concientizacion o ejecucion

	def edicion(self, parametro):
		pass
		

class Concientizacion(Proyectos):

	def __init__(self,**kwargs):
		super().__init__(**kwargs)
		
		self.tema = tema
		self.impacto = impacto
		self.etiqueta = "concientizacion"

class Ejecucion(Proyectos):

	def __init__(self, **kwargs):
		super().__init__(**kwargs)

		self.ciudad = ciudad
		self.costo = costo
		self.etiqueta = "ejecucion"

#CLASES PARA LOS VOLUNTARIOS Y SUS RESPECTIVAS HERENCIAS DE LA CLASE SUPER Voluntarios

class Voluntarios:
	
	def __init__(self, nombre, edad, fechaIngreso, proximaAccion = None, **kwargs):
		self.nombre = nombre
		self.edad = edad
		self.fechaIngreso = fechaIngreso
		self.proximaAccion = proximaAccion	
		self.etiqueta = None # me dice si es jefe, analista u obrero

	def accion(self):
		self.proximaAccion = input("Proxima accion a realizar")


class jefeDeProyecto(Voluntarios):

	def __init__(self, empleados = None, proximaAccion = None , **kwargs):
		super().__init__(**kwargs)

		self.proyectos_a_cargo = []
		if empleados is None:
			self.empleados = []
		else:
			self.empleados = empleados
		self.etiqueta = "jefe"	

	def accion(self):
		pass


class Analista(Voluntarios):

	def __init__(self, nombre, edad, fechaIngreso, proximaAccion, especializacion):
		super().__init__(**kwargs)

		self.especializacion = especializacion
		self.etiqueta = "analista"

	def accion(self):
		pass

class Obrero(Voluntarios):

	def __init__(self, nombre, edad, fechaIngreso, proximaAccion):
		super().__init__(**kwargs)		
		self.etiqueta = "obrero"		

#CLASES PARA LAS INSTITUCIONES

class Instituciones:

	def __init__(self, apoyo, nombre):
		self.apoyo = apoyo
		self.nombre = nombre
		self.etiqueta = None

class InstitucionPublica(Instituciones):

	def __init__(self, apoyo, nombre):
		super().__init__(**kwargs)
		self.etiqueta = "publica"

class InstitucionPrivada(Instituciones):

	def __init__(self, apoyo, nombre):
		super().__init__(**kwargs)
		self.etiqueta = "privada"		

class InstitucionSocial(Instituciones):

	def __init__(self, apoyo, nombre):
		super().__init__(**kwargs)
		self.etiqueta = "social"


#INTERFAZ DE USO

jefe1 = jefeDeProyecto(nombre = "bulbasaur",edad = 1, fechaIngreso = "1996-2-27")
jefe2 = jefeDeProyecto(nombre = "ivysaur", edad = "2", fechaIngreso = "1996-2-27")
jefe3 = jefeDeProyecto(nombre = "venusaur", edad = "3", fechaIngreso = "1996-2-27")

class Menu:

	def __init__(self):
		self.opciones = {
						"1": self.ingresar_voluntario,
						"2": self.ingresar_institucion,
						"3": self.crear_proyecto,
						"4": self.gestionar_proyecto,
						"5": self.visualizar,
						"6": self.eliminar,
						"7": self.salir
						}
		self.proyectos = []
		self.voluntarios = []
		self.instituciones = []				

	def display_menu(self):
		print("""
			1: Ingresa un voluntario
			2: Ingresar institucion
			3: Crear proyecto
			4: Gestionar proyecto
			5: Visualizar
			6: Eliminar
			7: Salir
			""")

	def run(self):
		running = True
		while running:
			self.display_menu()
			eleccion = input("Ingrese opcion:")
			accion = self.opciones.get(eleccion)
			if accion:
				accion()
			else:
				print("{0} no es una opcion valida".format(eleccion))
			if eleccion == '7':
				running = False

	def ingresar_voluntario(self):
		cargo = int(input("""Cual es tu cargo?
					0: Jefe de proyecto
					1: Obrero
					2: Analista """))

		nombre = input("Ingresa tu nombre")
		edad = int(input("Ingresa tu edad"))

		date_entry = input('Ingresa la fecha en formato YYYY-MM-DD')
		year, month, day = map(int, date_entry.split('-'))
		fechaIngreso = dt.date(year, month, day)

		proximaAccion = input("Ingresa tu proxima accion")

		if cargo == 0:
			boss = jefeDeProyecto(nombre, edad, fechaIngreso, proximaAccion)
			self.voluntarios.append(boss)
		elif cargo == 1: 
			worker = Obrero(nombre, edad, fechaIngreso, proximaAccion)
			self.voluntarios.append(worker)
		elif cargo == 2:
			especializacion = input("Estas en inicial o avanzado?")
			analyst = Analista(nombre, edad, fechaIngreso, proximaAccion, especializacion)
			self.voluntarios.append(analyst)
			
	def ingresar_institucion(self):
		inst = int(input("""Que tipo de institucion es?
					0: Publica
					1: Privada
					2: Social """))
		nombre = input("Nombre de la institucion")
		apoyo = input("""Tipo de apoyo:
					 tecnico/gestion/monetario""")
		if inst == 2:
			while apoyo == "monetario":
				apoyo = input("No se puede ingresar apoyo monetario. Escoge otro tipo de apoyo")
			inst_social = InstitucionSocial(apoyo, nombre)
			self.instituciones.append(inst_social)
		elif inst == 1:
			inst_privada = InstitucionPrivada(apoyo, nombre)
			self.instituciones.append(inst_privada)
		elif inst == 0:
			inst_publica = InstitucionPublica(apoyo, nombre)
			self.instituciones.append(inst_publica)

	def crear_proyecto(self):
		if (len(self.voluntarios) > 0):
			tipo = input("Que tipo de proyecto es?: (concientizacion/ejecucion) ")
			estado = input("Cual es el estado del proyecto?: (planificacion, ejecucion o finalizado)")

			if estado == "planificacion":
				nombre = input("Nombre del proyecto")

				if tipo == "concientizacion":
					proyectoC = Concientizacion(nombre)
					self.proyectos.append(proyectoC)
				elif tipo == "ejecucion":	
					proyectoE == Ejecucion(nombre)
					self.proyectos.append(proyectoE)

			else:
				nombre = input("Nombre del proyecto")
				date_entry = input('Ingresa la fecha en formato YYYY-MM-DD')
				year, month, day = map(int, date_entry.split('-'))
				fechaInicio = dt.date(year, month, day)	
				estado = input("Estado del proyecto: (ejecucion/finalizado)")

				if tipo == "concientizacion":
					proyectoCej = Concientizacion(nombre, fechaInicio = fechaInicio, estado = estado)
					self.proyectos.append(proyectoCej)
				elif tipo == "ejecucion":
					proyectoEj = Ejecucion(nombre, fechaInicio = fechaInicio, estado = estado)
					self.proyectos.append(proyectoEj)
		else:
			print("No puedes crear un proyecto si no tienes voluntarios!")

	def gestionar_proyecto(self):
		pass			

	def visualizar(self):
		pass			

	def eliminar(self):
		delete = input("Que quieres eliminar? (proyecto/institucion/voluntario)")
		delete_name = input("Nombre de lo que quieres eliminar")

		if delete == "proyecto":
			for proyecto in self.proyectos:
				if delete_name == proyecto.nombre:
					self.proyectos.pop(proyecto)
		#AQUI FALTA AGREGAR MAS CONTENIDO RESPECTO A QUE PASA CON LOS JEFES DE PROYECTO
		elif delete == "voluntario":
			for voluntario in self.voluntarios:
				if delete_name == voluntario.nombre:
					self.voluntarios.pop(voluntario)	
		elif delete == "institucion":
			for institucion in self.instituciones:
				if delete_name == institucion.nombre:
					self.instituciones.pop(institucion)

	def salir(self):
		pass		

menu = Menu()
menu.run()												




